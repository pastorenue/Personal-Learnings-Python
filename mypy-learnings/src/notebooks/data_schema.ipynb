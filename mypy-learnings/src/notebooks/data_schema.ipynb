{
 "cells": [
  {
   "cell_type": "code",
   "execution_count": 2,
   "id": "1e108145",
   "metadata": {},
   "outputs": [
    {
     "name": "stdout",
     "output_type": "stream",
     "text": [
      "Collecting marshmallow\n",
      "  Downloading marshmallow-4.0.0-py3-none-any.whl.metadata (7.4 kB)\n",
      "Downloading marshmallow-4.0.0-py3-none-any.whl (48 kB)\n",
      "Installing collected packages: marshmallow\n",
      "Successfully installed marshmallow-4.0.0\n",
      "Note: you may need to restart the kernel to use updated packages.\n"
     ]
    }
   ],
   "source": [
    "%pip install -U marshmallow"
   ]
  },
  {
   "cell_type": "code",
   "execution_count": 3,
   "id": "3dc0cbe7",
   "metadata": {},
   "outputs": [
    {
     "name": "stdout",
     "output_type": "stream",
     "text": [
      "{ 'age': 30,\n",
      "  'created_at': '2025-05-01T21:26:12.908794',\n",
      "  'email': 'some@example.com',\n",
      "  'name': 'John Doe'}\n"
     ]
    }
   ],
   "source": [
    "from dataclasses import dataclass, field\n",
    "import datetime as dt\n",
    "from marshmallow import Schema, fields\n",
    "\n",
    "@dataclass\n",
    "class User:\n",
    "    name: str\n",
    "    age: int\n",
    "    email: str\n",
    "    created_at: dt.datetime = field(default_factory=dt.datetime.now)\n",
    "\n",
    "\n",
    "class UserSchema(Schema):\n",
    "    name = fields.Str()\n",
    "    age = fields.Int()\n",
    "    email = fields.Email()\n",
    "    created_at = fields.DateTime()\n",
    "\n",
    "UserSchemaTwo = Schema.from_dict({\n",
    "    \"name\": fields.Str(),\n",
    "    \"age\": fields.Int(),\n",
    "    \"email\": fields.Email(),\n",
    "    \"created_at\": fields.DateTime()\n",
    "})\n",
    "\n",
    "from pprint import pprint\n",
    "\n",
    "user = User(name=\"John Doe\", age=30, email=\"some@example.com\")\n",
    "user_schema = UserSchema()\n",
    "res = user_schema.dump(user)\n",
    "pprint(res, indent=2)"
   ]
  },
  {
   "cell_type": "code",
   "execution_count": 4,
   "id": "4fe1053d",
   "metadata": {},
   "outputs": [
    {
     "name": "stdout",
     "output_type": "stream",
     "text": [
      "('{\"name\": \"John Doe\", \"age\": 30, \"email\": \"some@example.com\", \"created_at\": '\n",
      " '\"2025-05-01T21:26:12.908794\"}')\n"
     ]
    }
   ],
   "source": [
    "res_2 = user_schema.dumps(user)\n",
    "pprint(res_2, indent=2)"
   ]
  },
  {
   "cell_type": "code",
   "execution_count": 6,
   "id": "849b70cb",
   "metadata": {},
   "outputs": [
    {
     "name": "stdout",
     "output_type": "stream",
     "text": [
      "{'name': 'John Doe'}\n"
     ]
    }
   ],
   "source": [
    "only_name_schema =UserSchema(only=[\"name\"])\n",
    "only_name = only_name_schema.dump(user)\n",
    "pprint(only_name, indent=2)"
   ]
  },
  {
   "cell_type": "code",
   "execution_count": 7,
   "id": "ca59343f",
   "metadata": {},
   "outputs": [
    {
     "name": "stdout",
     "output_type": "stream",
     "text": [
      "{'age': 30, 'created_at': '2025-05-01T21:26:12.908794', 'name': 'John Doe'}\n"
     ]
    }
   ],
   "source": [
    "all_fields_schema = UserSchema(exclude=[\"email\"])\n",
    "all_fields = all_fields_schema.dump(user)\n",
    "pprint(all_fields, indent=2)"
   ]
  },
  {
   "cell_type": "code",
   "execution_count": 8,
   "id": "b88e861e",
   "metadata": {},
   "outputs": [
    {
     "name": "stdout",
     "output_type": "stream",
     "text": [
      "{ 'age': 30,\n",
      "  'created_at': datetime.datetime(2025, 5, 1, 21, 26, 12, 908794),\n",
      "  'email': 'some@example.com',\n",
      "  'name': 'John Doe'}\n"
     ]
    }
   ],
   "source": [
    "des_user = user_schema.load(res)\n",
    "pprint(des_user, indent=2)"
   ]
  },
  {
   "cell_type": "code",
   "execution_count": 12,
   "id": "32d3d551",
   "metadata": {},
   "outputs": [
    {
     "name": "stdout",
     "output_type": "stream",
     "text": [
      "User(name='John Doe',\n",
      "     age=30,\n",
      "     email='some@example.com',\n",
      "     created_at=datetime.datetime(2025, 5, 1, 21, 26, 12, 908794))\n"
     ]
    }
   ],
   "source": [
    "from marshmallow import post_load\n",
    "\n",
    "class UserSchemaWithPostLoad(Schema):\n",
    "    name = fields.Str()\n",
    "    age = fields.Int()\n",
    "    email = fields.Email()\n",
    "    created_at = fields.DateTime()\n",
    "\n",
    "    @post_load\n",
    "    def make_user(self, data, **kwargs):\n",
    "        return User(**data)\n",
    "\n",
    "user_ = UserSchemaWithPostLoad()\n",
    "res_ = user_.load(res)\n",
    "pprint(res_, indent=2)"
   ]
  },
  {
   "cell_type": "code",
   "execution_count": 13,
   "id": "874078f9",
   "metadata": {},
   "outputs": [
    {
     "name": "stdout",
     "output_type": "stream",
     "text": [
      "[ { 'age': 23,\n",
      "    'created_at': '2025-05-01T21:41:56.064091',\n",
      "    'email': 'adam@example.com',\n",
      "    'name': 'Adam Snow'},\n",
      "  { 'age': 33,\n",
      "    'created_at': '2025-05-01T21:41:56.064478',\n",
      "    'email': 'john@example.com',\n",
      "    'name': 'John Doe'},\n",
      "  { 'age': 22,\n",
      "    'created_at': '2025-05-01T21:41:56.064480',\n",
      "    'email': 'grey@example.com',\n",
      "    'name': 'Grey Shepherd'}]\n"
     ]
    }
   ],
   "source": [
    "users = [\n",
    "    User(name=\"Adam Snow\", age=23, email=\"adam@example.com\"),\n",
    "    User(name=\"John Doe\", age=33, email=\"john@example.com\"),\n",
    "    User(name=\"Grey Shepherd\", age=22, email=\"grey@example.com\"),\n",
    "]\n",
    "many_schema = UserSchema(many=True)\n",
    "users_ = many_schema.dump(users)\n",
    "pprint(users_, indent=2)"
   ]
  },
  {
   "cell_type": "code",
   "execution_count": 16,
   "id": "bac2af9d",
   "metadata": {},
   "outputs": [
    {
     "name": "stdout",
     "output_type": "stream",
     "text": [
      "{1: {'email': ['Not a valid email address.']}}\n"
     ]
    }
   ],
   "source": [
    "import marshmallow\n",
    "data_with_invalid = [\n",
    "    {\"email\": \"mick@stones.com\", \"name\": \"Mick\"},\n",
    "    {\"email\": \"invalid\", \"name\": \"Invalid\"},  # invalid email\n",
    "    {\"email\": \"keith@stones.com\", \"name\": \"Keith\"},\n",
    "    {\"email\": \"charlie@stones.com\"},  # missing \"name\"\n",
    "]\n",
    "try:\n",
    "    UserSchema(many=True).load(data_with_invalid)\n",
    "except marshmallow.ValidationError as e:\n",
    "    pprint(e.messages, indent=2)\n",
    "\n"
   ]
  },
  {
   "cell_type": "code",
   "execution_count": 19,
   "id": "9a98b8d5",
   "metadata": {},
   "outputs": [
    {
     "name": "stdout",
     "output_type": "stream",
     "text": [
      "{ 'height': ['Must be greater than or equal to 0 and less than or equal to 3.'],\n",
      "  'weight': [ 'Must be greater than or equal to 0 and less than or equal to '\n",
      "              '100.']}\n"
     ]
    }
   ],
   "source": [
    "class AnimalSchema(Schema):\n",
    "    name = fields.Str(validate=marshmallow.validate.Length(max=55))\n",
    "    ability = fields.Str(validate=marshmallow.validate.OneOf(\n",
    "        [\"fly\", \"swim\", \"run\", \"walk\"]\n",
    "    ))\n",
    "    age = fields.Int(validate=marshmallow.validate.Range(min=0, max=40))\n",
    "    weight = fields.Float(validate=marshmallow.validate.Range(min=0, max=100))\n",
    "    height = fields.Float(validate=marshmallow.validate.Range(min=0, max=3))\n",
    "\n",
    "try:\n",
    "    AnimalSchema().load({\n",
    "        \"name\": \"Elephant\",\n",
    "        \"ability\": \"swim\",\n",
    "        \"age\": 10,\n",
    "        \"weight\": 5000,\n",
    "        \"height\": 3.5\n",
    "    })\n",
    "except marshmallow.ValidationError as e:\n",
    "    pprint(e.messages, indent=2)\n"
   ]
  },
  {
   "cell_type": "code",
   "execution_count": null,
   "id": "51c22d1a",
   "metadata": {},
   "outputs": [
    {
     "name": "stdout",
     "output_type": "stream",
     "text": [
      "{ 'age': 43,\n",
      "  'email': 'epastor@momox.biz',\n",
      "  'id_': UUID('84199f0c-26d0-11f0-8a59-825c702cfe38'),\n",
      "  'modality': True,\n",
      "  'name': 'Joe'}\n"
     ]
    }
   ],
   "source": [
    "def validate_momoxian(value):\n",
    "    if not value.endswith(\"@momox.biz\"):\n",
    "        raise marshmallow.ValidationError(\"Email must end with @momox.biz\")\n",
    "    return value\n",
    "\n",
    "import uuid\n",
    "\n",
    "class MomoxSchema(UserSchema):\n",
    "    id_ = fields.UUID(load_default=uuid.uuid1)\n",
    "    email = fields.Email(validate=validate_momoxian)\n",
    "    age = fields.Int(required=True, error_messages={\"required\": \"Age is required.\"})\n",
    "\n",
    "    class Meta:\n",
    "        unknown = marshmallow.RAISE\n",
    "\n",
    "    @marshmallow.validates(\"name\")\n",
    "    def validate_name(self, value: str, data_key:  str):\n",
    "        if len(value) < 3:\n",
    "            raise marshmallow.ValidationError(f\"Too short with {len(value)} chars\")\n",
    "\n",
    "momox_user = MomoxSchema(unknown=marshmallow.EXCLUDE)\n",
    "try:\n",
    "    pprint(\n",
    "        momox_user.load({\n",
    "            \"name\": \"Joe\",\n",
    "            \"age\": 43,\n",
    "            \"email\": \"epastor@momox.biz\",\n",
    "            \"modality\": True\n",
    "        }, unknown=marshmallow.INCLUDE), # overrides `unknown` value in Meta and instantiation\n",
    "        indent=2\n",
    "    )\n",
    "except marshmallow.ValidationError as e:\n",
    "    pprint(e.messages, indent=2)"
   ]
  },
  {
   "cell_type": "code",
   "execution_count": 41,
   "id": "05f2b445",
   "metadata": {},
   "outputs": [],
   "source": [
    "if error := MomoxSchema().validate({\"name\": \"Joe\", \"email\": \"e.pastor@momox.biz\", \"age\": 30}):\n",
    "    pprint(f\"error: {error}\")\n"
   ]
  },
  {
   "cell_type": "code",
   "execution_count": 44,
   "id": "34f791cd",
   "metadata": {},
   "outputs": [
    {
     "data": {
      "text/plain": [
       "{'from_': 'NYC', 'to_': 'BER'}"
      ]
     },
     "execution_count": 44,
     "metadata": {},
     "output_type": "execute_result"
    }
   ],
   "source": [
    "class FlightSchema(Schema):\n",
    "    from_ = fields.Str(data_key=\"Source\")\n",
    "    to_ = fields.Str(data_key=\"Destination\")\n",
    "\n",
    "c = FlightSchema().dump({\"from_\": \"NYC\", \"to_\": \"BER\"})\n",
    "FlightSchema().load(c)"
   ]
  },
  {
   "cell_type": "code",
   "execution_count": 47,
   "id": "30d64b61",
   "metadata": {},
   "outputs": [
    {
     "name": "stdout",
     "output_type": "stream",
     "text": [
      "{'author': {'email': 'alex@mail.com'}, 'title': 'Something Different'}\n"
     ]
    }
   ],
   "source": [
    "@dataclass\n",
    "class Blog:\n",
    "    title: str\n",
    "    author: User\n",
    "\n",
    "class BlogSchema(Schema):\n",
    "    title = fields.String()\n",
    "    author = fields.Nested(MomoxSchema(only=(\"email\",)))\n",
    "\n",
    "user = User(name=\"Alex\", age=23, email=\"alex@mail.com\")\n",
    "blog = Blog(title=\"Something Different\", author=user)\n",
    "\n",
    "res = BlogSchema().dump(blog)\n",
    "pprint(res)"
   ]
  },
  {
   "cell_type": "code",
   "execution_count": 48,
   "id": "2263ae60",
   "metadata": {},
   "outputs": [
    {
     "name": "stdout",
     "output_type": "stream",
     "text": [
      "{ 'age': 30,\n",
      "  'created_at': '2025-05-02T00:35:29.481636',\n",
      "  'email': 'clay@momox.biz',\n",
      "  'employee_id': 'MX-clay',\n",
      "  'name': 'John Doe',\n",
      "  'pincode': '1-2-3-4',\n",
      "  'since_created': 0}\n"
     ]
    }
   ],
   "source": [
    "class CustomPinCodeField(fields.Field[list[int]]):\n",
    "\n",
    "    def _serialize(self, value, attr, obj, **kwargs):\n",
    "        if value is None:\n",
    "            return \"\"\n",
    "        return \"-\".join(str(i) for i in value)\n",
    "\n",
    "    def _deserialize(self, value, attr, data, **kwargs):\n",
    "        if not value:\n",
    "            return []\n",
    "        try:\n",
    "            return [int(i) for i in value.split(\"-\")]\n",
    "        except ValueError as e:\n",
    "            raise marshmallow.ValidationError(\"Invalid pin code format\") from e\n",
    "    \n",
    "class UserWithPinCodeSchema(MomoxSchema):\n",
    "    pincode = CustomPinCodeField()\n",
    "    since_created = fields.Method(\"get_since_created\")\n",
    "    employee_id = fields.Function(lambda obj: f\"MX-{obj.email.split('@')[0]}\")\n",
    "\n",
    "    def get_since_created(self, obj):\n",
    "        return dt.datetime.now().day - obj.created_at.day\n",
    "\n",
    "user = User(name=\"John Doe\", age=30, email=\"clay@momox.biz\")\n",
    "user.pincode = [1, 2, 3, 4]\n",
    "\n",
    "res = UserWithPinCodeSchema().dump(user)\n",
    "pprint(res, indent=2)\n"
   ]
  },
  {
   "cell_type": "code",
   "execution_count": null,
   "id": "85787c0f",
   "metadata": {},
   "outputs": [],
   "source": []
  }
 ],
 "metadata": {
  "kernelspec": {
   "display_name": "mypy-learnings-arzkQPNA-py3.12",
   "language": "python",
   "name": "python3"
  },
  "language_info": {
   "codemirror_mode": {
    "name": "ipython",
    "version": 3
   },
   "file_extension": ".py",
   "mimetype": "text/x-python",
   "name": "python",
   "nbconvert_exporter": "python",
   "pygments_lexer": "ipython3",
   "version": "3.12.9"
  }
 },
 "nbformat": 4,
 "nbformat_minor": 5
}

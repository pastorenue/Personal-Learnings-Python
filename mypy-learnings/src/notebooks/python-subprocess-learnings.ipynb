{
 "cells": [
  {
   "cell_type": "code",
   "execution_count": 42,
   "id": "80c1e24a",
   "metadata": {},
   "outputs": [
    {
     "name": "stdout",
     "output_type": "stream",
     "text": [
      "Thread is running\n"
     ]
    },
    {
     "name": "stdout",
     "output_type": "stream",
     "text": [
      "crw-rw-rw-  1 root  wheel  0x3000002 Apr 17 22:08 \u001b[34m\u001b[43m/dev/null\u001b[m\u001b[m\n"
     ]
    }
   ],
   "source": [
    "import os\n",
    "import threading\n",
    "import subprocess\n",
    "\n",
    "p = threading.Lock()\n",
    "def thread_func():\n",
    "    with p:\n",
    "        print(\"Thread is running\")\n",
    "        command = list(\"ls,-l,/dev/null\".split(\",\"))\n",
    "        c = subprocess.Popen(command, stdout=subprocess.PIPE, stderr=subprocess.STDOUT)\n",
    "        for line in c.stdout:\n",
    "            print(line.strip().decode(\"utf-8\"))\n",
    "\n",
    "thread = threading.Thread(target=thread_func, daemon=True)\n",
    "thread.start()\n"
   ]
  },
  {
   "cell_type": "code",
   "execution_count": 43,
   "id": "6adfba8f",
   "metadata": {},
   "outputs": [
    {
     "name": "stdout",
     "output_type": "stream",
     "text": [
      " - MainThread\n",
      " - IOPub\n",
      " - Heartbeat\n",
      " - Thread-1 (_watch_pipe_fd)\n",
      " - Thread-2 (_watch_pipe_fd)\n",
      " - Control\n",
      " - IPythonHistorySavingThread\n"
     ]
    }
   ],
   "source": [
    "thread_list = threading.enumerate()\n",
    "for t in thread_list:\n",
    "    print(f\" - {t.name}\")"
   ]
  },
  {
   "cell_type": "code",
   "execution_count": 7,
   "id": "4839c30a",
   "metadata": {},
   "outputs": [
    {
     "data": {
      "text/plain": [
       "{'gitn': int, 'cell': str}"
      ]
     },
     "execution_count": 7,
     "metadata": {},
     "output_type": "execute_result"
    }
   ],
   "source": [
    "import inspect\n",
    "\n",
    "def run(gitn: int, cell: str, **kwargs):\n",
    "    pass\n",
    "\n",
    "full_arg_spec = inspect.getfullargspec(run)\n",
    "full_arg_spec\n",
    "with_defaults = full_arg_spec.annotations\n",
    "with_defaults"
   ]
  },
  {
   "cell_type": "code",
   "execution_count": 10,
   "id": "2c32c750",
   "metadata": {},
   "outputs": [
    {
     "data": {
      "text/plain": [
       "'{}'"
      ]
     },
     "execution_count": 10,
     "metadata": {},
     "output_type": "execute_result"
    }
   ],
   "source": [
    "import json\n",
    "\n",
    "json.dumps({})"
   ]
  },
  {
   "cell_type": "code",
   "execution_count": null,
   "id": "94b39b98",
   "metadata": {},
   "outputs": [],
   "source": []
  }
 ],
 "metadata": {
  "kernelspec": {
   "display_name": "mypy-learnings-arzkQPNA-py3.12",
   "language": "python",
   "name": "python3"
  },
  "language_info": {
   "codemirror_mode": {
    "name": "ipython",
    "version": 3
   },
   "file_extension": ".py",
   "mimetype": "text/x-python",
   "name": "python",
   "nbconvert_exporter": "python",
   "pygments_lexer": "ipython3",
   "version": "3.12.9"
  }
 },
 "nbformat": 4,
 "nbformat_minor": 5
}

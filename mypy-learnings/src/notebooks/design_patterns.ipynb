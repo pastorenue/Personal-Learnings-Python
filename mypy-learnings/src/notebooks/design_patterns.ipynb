{
 "cells": [
  {
   "cell_type": "markdown",
   "id": "c6202d0f",
   "metadata": {},
   "source": [
    "### Strategy Design Pattern\n",
    "Strategy is a behavioral design pattern that lets you define a family of algorithms, put each of them into a separate class, and make their objects interchangeable."
   ]
  },
  {
   "cell_type": "code",
   "execution_count": null,
   "id": "0e67331c",
   "metadata": {},
   "outputs": [
    {
     "name": "stdout",
     "output_type": "stream",
     "text": [
      "[1, 2, 3, 4, 5]\n",
      "Strategy: ASCStrategy changed to DSCStrategy\n",
      "[5, 4, 3, 2, 1]\n"
     ]
    }
   ],
   "source": [
    "# Using the Composition Pattern (has-a) relationship\n",
    "from typing import Protocol, Iterable\n",
    "\n",
    "class SortStrategy(Protocol):\n",
    "    def run_algorithm(self, iterable: Iterable) -> Iterable: ...\n",
    "\n",
    "\n",
    "class ASCStrategy:\n",
    "    def run_algorithm(self, iterable: Iterable) -> Iterable:\n",
    "        return sorted(iterable)\n",
    "\n",
    "\n",
    "class DSCStrategy:\n",
    "    def run_algorithm(self, iterable: Iterable) -> Iterable:\n",
    "        return sorted(iterable, reverse=True)\n",
    "\n",
    "\n",
    "class Program:\n",
    "    def __init__(self, strategy: SortStrategy, iterable: Iterable):\n",
    "        self._strategy = strategy\n",
    "        self.iterable = iterable\n",
    "\n",
    "    @property\n",
    "    def strategy(self) -> SortStrategy:\n",
    "        return self._strategy\n",
    "    \n",
    "    @strategy.setter\n",
    "    def strategy(self, strategy: SortStrategy) -> None:\n",
    "        if self._strategy == strategy:\n",
    "            return\n",
    "        print(\n",
    "            (\n",
    "                f\"Strategy: {self._strategy.__class__.__name__} \"\n",
    "                f\"changed to {strategy.__class__.__name__}\"\n",
    "            )\n",
    "        )\n",
    "        self._strategy = strategy\n",
    "\n",
    "    def exec(self) -> Iterable:\n",
    "        return self._strategy.run_algorithm(self.iterable)\n",
    "\n",
    "p = Program(ASCStrategy(), [1, 3, 2, 4, 5])\n",
    "print(p.exec())\n",
    "\n",
    "p.strategy = DSCStrategy()\n",
    "print(p.exec())"
   ]
  },
  {
   "cell_type": "code",
   "execution_count": null,
   "id": "97ffc610",
   "metadata": {},
   "outputs": [
    {
     "name": "stdout",
     "output_type": "stream",
     "text": [
      "[1, 2, 3, 4, 5]\n",
      "Strategy: StASCStrategy changed to StDSCStrategy\n",
      "[5, 4, 3, 2, 1]\n"
     ]
    }
   ],
   "source": [
    "# Using Inheritance (is-a) relationship\n",
    "from abc import ABC\n",
    "\n",
    "class StStrategy(ABC):\n",
    "    def run_algorithm(self, iterable: Iterable) -> Iterable:\n",
    "        raise NotImplementedError(\"You should implement this method!\")\n",
    "\n",
    "class StASCStrategy(StStrategy):\n",
    "    def run_algorithm(self, iterable: Iterable) -> Iterable:\n",
    "        return sorted(iterable)\n",
    "\n",
    "class StDSCStrategy(StStrategy):\n",
    "    def run_algorithm(self, iterable: Iterable) -> Iterable:\n",
    "        return sorted(iterable, reverse=True)\n",
    "\n",
    "class StProgram:\n",
    "    def __init__(self, strategy: StStrategy, iterable: Iterable):\n",
    "        self._strategy = strategy\n",
    "        self.iterable = iterable\n",
    "\n",
    "    @property\n",
    "    def strategy(self) -> StStrategy:\n",
    "        return self._strategy\n",
    "    \n",
    "    @strategy.setter\n",
    "    def strategy(self, strategy: StStrategy) -> None:\n",
    "        if self._strategy == strategy:\n",
    "            return\n",
    "        print(\n",
    "            (\n",
    "                f\"Strategy: {self._strategy.__class__.__name__} \"\n",
    "                f\"changed to {strategy.__class__.__name__}\"\n",
    "            )\n",
    "        )\n",
    "        self._strategy = strategy\n",
    "\n",
    "    def exec(self) -> Iterable:\n",
    "        return self._strategy.run_algorithm(self.iterable)\n",
    "\n",
    "p = StProgram(StASCStrategy(), [1, 3, 2, 4, 5])\n",
    "print(p.exec())\n",
    "p.strategy = StDSCStrategy()\n",
    "print(p.exec())"
   ]
  },
  {
   "cell_type": "markdown",
   "id": "d02047ed",
   "metadata": {},
   "source": [
    "### State Pattern\n",
    "**State** is a behavioral design pattern that lets an object alter its behavior when its internal state changes. It appears as if the object changed its class. Just like a `finite state machine`."
   ]
  },
  {
   "cell_type": "code",
   "execution_count": 8,
   "id": "ec907b87",
   "metadata": {},
   "outputs": [],
   "source": [
    "from abc import ABC\n",
    "\n",
    "\n",
    "class Context:\n",
    "    pass\n",
    "\n",
    "\n",
    "class State(ABC):\n",
    "\n",
    "    @property\n",
    "    def context(self):\n",
    "        return self._context\n",
    "\n",
    "    @context.setter\n",
    "    def context(self, context: Context):\n",
    "        self._context = context\n",
    "\n",
    "    def exec(self):\n",
    "        raise NotImplementedError(\"You need to implement this method\")\n",
    "\n",
    "class Init(State):\n",
    "    def exec(self):\n",
    "        print(\"Starting a new task...\")\n",
    "        self.context.state = InProgress()\n",
    "\n",
    "class InProgress(State):\n",
    "    pass"
   ]
  },
  {
   "cell_type": "code",
   "execution_count": 11,
   "id": "d73e6063",
   "metadata": {},
   "outputs": [
    {
     "data": {
      "text/plain": [
       "['This', 'is', 'a', 'task']"
      ]
     },
     "execution_count": 11,
     "metadata": {},
     "output_type": "execute_result"
    }
   ],
   "source": [
    "x = [x.strip() for x in \"This, is, a, task\".strip().split(\",\")]\n",
    "x"
   ]
  },
  {
   "cell_type": "code",
   "execution_count": 17,
   "id": "a544093e",
   "metadata": {},
   "outputs": [
    {
     "data": {
      "text/plain": [
       "2025"
      ]
     },
     "execution_count": 17,
     "metadata": {},
     "output_type": "execute_result"
    }
   ],
   "source": [
    "from datetime import datetime, timezone\n",
    "datetime.now(timezone.utc).year"
   ]
  },
  {
   "cell_type": "code",
   "execution_count": 18,
   "id": "f8634024",
   "metadata": {},
   "outputs": [
    {
     "data": {
      "text/plain": [
       "True"
      ]
     },
     "execution_count": 18,
     "metadata": {},
     "output_type": "execute_result"
    }
   ],
   "source": [
    "\"2025\".isdigit()"
   ]
  },
  {
   "cell_type": "code",
   "execution_count": 1,
   "id": "69f7aa22",
   "metadata": {},
   "outputs": [
    {
     "name": "stdout",
     "output_type": "stream",
     "text": [
      "Collecting redis\n",
      "  Using cached redis-5.2.1-py3-none-any.whl.metadata (9.1 kB)\n",
      "Using cached redis-5.2.1-py3-none-any.whl (261 kB)\n",
      "Installing collected packages: redis\n",
      "Successfully installed redis-5.2.1\n",
      "Note: you may need to restart the kernel to use updated packages.\n"
     ]
    }
   ],
   "source": [
    "%pip install redis"
   ]
  },
  {
   "cell_type": "code",
   "execution_count": 3,
   "id": "0d94609c",
   "metadata": {},
   "outputs": [
    {
     "data": {
      "text/plain": [
       "True"
      ]
     },
     "execution_count": 3,
     "metadata": {},
     "output_type": "execute_result"
    }
   ],
   "source": [
    "import redis\n",
    "r = redis.Redis(decode_responses=True, max_connections=20)\n",
    "r.ping()"
   ]
  },
  {
   "cell_type": "code",
   "execution_count": 35,
   "id": "d853c9a7",
   "metadata": {},
   "outputs": [
    {
     "data": {
      "text/plain": [
       "True"
      ]
     },
     "execution_count": 35,
     "metadata": {},
     "output_type": "execute_result"
    }
   ],
   "source": [
    "r.set(\"hello\", \"world\")"
   ]
  },
  {
   "cell_type": "code",
   "execution_count": 24,
   "id": "0c8cab6b",
   "metadata": {},
   "outputs": [
    {
     "data": {
      "text/plain": [
       "['keyspace',\n",
       " 'read',\n",
       " 'write',\n",
       " 'set',\n",
       " 'sortedset',\n",
       " 'list',\n",
       " 'hash',\n",
       " 'string',\n",
       " 'bitmap',\n",
       " 'hyperloglog',\n",
       " 'geo',\n",
       " 'stream',\n",
       " 'pubsub',\n",
       " 'admin',\n",
       " 'fast',\n",
       " 'slow',\n",
       " 'blocking',\n",
       " 'dangerous',\n",
       " 'connection',\n",
       " 'transaction',\n",
       " 'scripting']"
      ]
     },
     "execution_count": 24,
     "metadata": {},
     "output_type": "execute_result"
    }
   ],
   "source": [
    "r.acl_cat()"
   ]
  },
  {
   "cell_type": "code",
   "execution_count": 4,
   "id": "15eb2305",
   "metadata": {},
   "outputs": [
    {
     "data": {
      "text/plain": [
       "['sort_ro',\n",
       " 'blpop',\n",
       " 'rpush',\n",
       " 'blmpop',\n",
       " 'lmove',\n",
       " 'lrem',\n",
       " 'llen',\n",
       " 'lpop',\n",
       " 'lmpop',\n",
       " 'blmove',\n",
       " 'linsert',\n",
       " 'lset',\n",
       " 'rpushx',\n",
       " 'sort',\n",
       " 'lpush',\n",
       " 'brpop',\n",
       " 'lpos',\n",
       " 'brpoplpush',\n",
       " 'rpop',\n",
       " 'ltrim',\n",
       " 'lpushx',\n",
       " 'lrange',\n",
       " 'lindex',\n",
       " 'rpoplpush']"
      ]
     },
     "execution_count": 4,
     "metadata": {},
     "output_type": "execute_result"
    }
   ],
   "source": [
    "r.acl_cat(category=\"list\")"
   ]
  },
  {
   "cell_type": "code",
   "execution_count": 33,
   "id": "9c441ce8",
   "metadata": {},
   "outputs": [
    {
     "data": {
      "text/plain": [
       "['user default on nopass sanitize-payload ~* &* +@all']"
      ]
     },
     "execution_count": 33,
     "metadata": {},
     "output_type": "execute_result"
    }
   ],
   "source": [
    "r.acl_list()"
   ]
  },
  {
   "cell_type": "code",
   "execution_count": 7,
   "id": "58d38732",
   "metadata": {},
   "outputs": [],
   "source": [
    "PLANETS = [\n",
    "    \"Mercury\", \"Mercury\", \"Venus\", \"Earth\", \"Earth\", \"Mars\",\n",
    "    \"Jupiter\", \"Saturn\", \"Uranus\", \"Neptune\", \"Pluto\"\n",
    "]\n",
    "PLANET_LIST_KEY = \"ru102py:planets:list\"\n",
    "PLANET_SET_KEY = \"ru102py:planets:set\"\n",
    "EARTH_KEY = \"earth\""
   ]
  },
  {
   "cell_type": "code",
   "execution_count": 8,
   "id": "e7ad1f2b",
   "metadata": {},
   "outputs": [],
   "source": [
    "def test_redis_list(redis: redis.Redis):\n",
    "    assert len(PLANETS ) == 11\n",
    "\n",
    "    # Add all test planets to Redis list\n",
    "    result = redis.rpush(PLANET_LIST_KEY, *PLANETS)\n",
    "\n",
    "    # Check that the length of the list in Redis is the same\n",
    "    assert result == len(PLANETS)\n",
    "\n",
    "    # Get the planets from the list\n",
    "    # NOTEL LRANGE is an O(n) command. Be careful running it with high-cardinlity sets\n",
    "    planets = redis.lrange(PLANET_LIST_KEY, 0, -1)\n",
    "    assert planets == PLANETS\n",
    "\n",
    "    # Remove the elements that we know are duplicates\n",
    "    redis.lrem(PLANET_LIST_KEY, 1, \"Mercury\")\n",
    "    redis.lrem(PLANET_LIST_KEY, 1, \"Earth\")\n",
    "\n",
    "    planet = redis.rpop(PLANET_LIST_KEY)\n",
    "    assert planet == \"Pluto\"\n",
    "\n",
    "    assert redis.llen(PLANET_LIST_KEY) == 8\n",
    "\n",
    "test_redis_list(r)"
   ]
  },
  {
   "cell_type": "code",
   "execution_count": 12,
   "id": "297d5368",
   "metadata": {},
   "outputs": [
    {
     "name": "stdout",
     "output_type": "stream",
     "text": [
      "(0, ['Mercury', 'Venus', 'Earth', 'Mars', 'Jupiter', 'Saturn', 'Uranus', 'Neptune'])\n"
     ]
    }
   ],
   "source": [
    "def test_redis_set(redis: redis.Redis):\n",
    "    # Add all test planets to Redis set\n",
    "    redis.sadd(PLANET_SET_KEY, *PLANETS)\n",
    "\n",
    "    # Return the cardinality of the set\n",
    "    assert redis.scard(PLANET_SET_KEY) == 9\n",
    "\n",
    "    # Get the planets from the set\n",
    "    # NOTE: SMEMBERS is an O(n) command. Be careful running it with high-cardinlity sets\n",
    "    # and large sets\n",
    "    # Planets are not returned in any particular order\n",
    "    # and duplicates are removed\n",
    "    assert redis.smembers(PLANET_SET_KEY) == set(PLANETS)\n",
    "\n",
    "    # Remove the elements that we know are duplicates\n",
    "    res = redis.srem(PLANET_SET_KEY, \"Pluto\")\n",
    "    assert res == 1\n",
    "\n",
    "    print(redis.sscan(PLANET_SET_KEY))\n",
    "\n",
    "test_redis_set(r)"
   ]
  },
  {
   "cell_type": "code",
   "execution_count": 19,
   "id": "56890aee",
   "metadata": {},
   "outputs": [],
   "source": [
    "data_2 = { \"store\": {\n",
    "    \"book\": [ \n",
    "      { \"category\": \"reference\",\n",
    "        \"author\": \"Nigel Rees\",\n",
    "        \"title\": \"Sayings of the Century\",\n",
    "        \"price\": 8.95\n",
    "      },\n",
    "      { \"category\": \"fiction\",\n",
    "        \"author\": \"Evelyn Waugh\",\n",
    "        \"title\": \"Sword of Honour\",\n",
    "        \"price\": 12.99\n",
    "      },\n",
    "      { \"category\": \"fiction\",\n",
    "        \"author\": \"Herman Melville\",\n",
    "        \"title\": \"Moby Dick\",\n",
    "        \"isbn\": \"0-553-21311-3\",\n",
    "        \"price\": 8.99\n",
    "      },\n",
    "      { \"category\": \"fiction\",\n",
    "        \"author\": \"J. R. R. Tolkien\",\n",
    "        \"title\": \"The Lord of the Rings\",\n",
    "        \"isbn\": \"0-395-19395-8\",\n",
    "        \"price\": 22.99\n",
    "      }\n",
    "    ],\n",
    "    \"bicycle\": {\n",
    "      \"color\": \"red\",\n",
    "      \"price\": 19.95\n",
    "    }\n",
    "  }\n",
    "}"
   ]
  },
  {
   "cell_type": "code",
   "execution_count": 22,
   "id": "71b9399a",
   "metadata": {},
   "outputs": [
    {
     "name": "stdout",
     "output_type": "stream",
     "text": [
      "None\n"
     ]
    }
   ],
   "source": [
    "import json\n",
    "\n",
    "rj = redis.StrictRedis(port=6399)\n",
    "data = {\n",
    "    'foo': 'bar',\n",
    "    'ans': 42\n",
    "}\n",
    "rj.execute_command(\"JSON.SET\", \"object_\", \".\", json.dumps(data))\n",
    "reply = rj.execute_command(\"JSON.GET\", \"object\")\n",
    "\n",
    "rj.execute_command(\"JSON.SET\", \"object_2\", \".\", json.dumps(data_2))\n",
    "res = rj.execute_command(\"JSON.GET\", \"..author\")\n",
    "print(res)\n"
   ]
  },
  {
   "cell_type": "code",
   "execution_count": null,
   "id": "ed6a0f1e",
   "metadata": {},
   "outputs": [
    {
     "data": {
      "text/plain": [
       "0"
      ]
     },
     "execution_count": 26,
     "metadata": {},
     "output_type": "execute_result"
    }
   ],
   "source": [
    "# rj.execute_command(\"PFADD\", \"bikes\")\n",
    "rj.execute_command(\"PFADD\", \"bikes\", \"Hyperion\",\"Deimos\",\"Phoebe\", \"Quaoar\")"
   ]
  },
  {
   "cell_type": "code",
   "execution_count": 27,
   "id": "ffd38889",
   "metadata": {},
   "outputs": [
    {
     "data": {
      "text/plain": [
       "0"
      ]
     },
     "execution_count": 27,
     "metadata": {},
     "output_type": "execute_result"
    }
   ],
   "source": [
    "rj.execute_command(\"PFADD\", \"bikes\", \"Deimos\")"
   ]
  },
  {
   "cell_type": "code",
   "execution_count": 28,
   "id": "6093b8f9",
   "metadata": {},
   "outputs": [
    {
     "data": {
      "text/plain": [
       "4"
      ]
     },
     "execution_count": 28,
     "metadata": {},
     "output_type": "execute_result"
    }
   ],
   "source": [
    "rj.execute_command(\"PFCOUNT\", \"bikes\")"
   ]
  },
  {
   "cell_type": "code",
   "execution_count": 29,
   "id": "1453d989",
   "metadata": {},
   "outputs": [
    {
     "data": {
      "text/plain": [
       "1"
      ]
     },
     "execution_count": 29,
     "metadata": {},
     "output_type": "execute_result"
    }
   ],
   "source": [
    "rj.execute_command(\"PFADD\", \"commuter_bikes\", \"Salacia\", \"Mimas\", \"Quaoar\")"
   ]
  },
  {
   "cell_type": "code",
   "execution_count": 30,
   "id": "ba577488",
   "metadata": {},
   "outputs": [
    {
     "data": {
      "text/plain": [
       "6"
      ]
     },
     "execution_count": 30,
     "metadata": {},
     "output_type": "execute_result"
    }
   ],
   "source": [
    "rj.execute_command(\"PFCOUNT\", \"commuter_bikes\", \"bikes\")"
   ]
  },
  {
   "cell_type": "code",
   "execution_count": 31,
   "id": "701b0e86",
   "metadata": {},
   "outputs": [
    {
     "data": {
      "text/plain": [
       "True"
      ]
     },
     "execution_count": 31,
     "metadata": {},
     "output_type": "execute_result"
    }
   ],
   "source": [
    "rj.execute_command(\"PFMERGE\", \"all_bikes\", \"bikes\", \"commuter_bikes\")"
   ]
  },
  {
   "cell_type": "code",
   "execution_count": 32,
   "id": "f06816cd",
   "metadata": {},
   "outputs": [
    {
     "data": {
      "text/plain": [
       "6"
      ]
     },
     "execution_count": 32,
     "metadata": {},
     "output_type": "execute_result"
    }
   ],
   "source": [
    "rj.execute_command(\"PFCOUNT\", \"all_bikes\")"
   ]
  },
  {
   "cell_type": "code",
   "execution_count": 33,
   "id": "d9bf1153",
   "metadata": {},
   "outputs": [
    {
     "data": {
      "text/plain": [
       "['__abstractmethods__',\n",
       " '__annotations__',\n",
       " '__class__',\n",
       " '__class_getitem__',\n",
       " '__contains__',\n",
       " '__del__',\n",
       " '__delattr__',\n",
       " '__delitem__',\n",
       " '__dict__',\n",
       " '__dir__',\n",
       " '__doc__',\n",
       " '__enter__',\n",
       " '__eq__',\n",
       " '__exit__',\n",
       " '__format__',\n",
       " '__ge__',\n",
       " '__getattribute__',\n",
       " '__getitem__',\n",
       " '__getstate__',\n",
       " '__gt__',\n",
       " '__hash__',\n",
       " '__init__',\n",
       " '__init_subclass__',\n",
       " '__le__',\n",
       " '__lt__',\n",
       " '__module__',\n",
       " '__ne__',\n",
       " '__new__',\n",
       " '__parameters__',\n",
       " '__protocol_attrs__',\n",
       " '__reduce__',\n",
       " '__reduce_ex__',\n",
       " '__repr__',\n",
       " '__setattr__',\n",
       " '__setitem__',\n",
       " '__sizeof__',\n",
       " '__slots__',\n",
       " '__str__',\n",
       " '__subclasshook__',\n",
       " '__weakref__',\n",
       " '_abc_impl',\n",
       " '_disconnect_raise',\n",
       " '_eval',\n",
       " '_evalsha',\n",
       " '_execute_command',\n",
       " '_fcall',\n",
       " '_georadiusgeneric',\n",
       " '_geosearchgeneric',\n",
       " '_is_protocol',\n",
       " '_is_runtime_protocol',\n",
       " '_send_command_parse_response',\n",
       " '_tfcall',\n",
       " '_zaggregate',\n",
       " '_zrange',\n",
       " 'acl_cat',\n",
       " 'acl_deluser',\n",
       " 'acl_dryrun',\n",
       " 'acl_genpass',\n",
       " 'acl_getuser',\n",
       " 'acl_help',\n",
       " 'acl_list',\n",
       " 'acl_load',\n",
       " 'acl_log',\n",
       " 'acl_log_reset',\n",
       " 'acl_save',\n",
       " 'acl_setuser',\n",
       " 'acl_users',\n",
       " 'acl_whoami',\n",
       " 'append',\n",
       " 'auth',\n",
       " 'auto_close_connection_pool',\n",
       " 'bf',\n",
       " 'bgrewriteaof',\n",
       " 'bgsave',\n",
       " 'bitcount',\n",
       " 'bitfield',\n",
       " 'bitfield_ro',\n",
       " 'bitop',\n",
       " 'bitpos',\n",
       " 'blmove',\n",
       " 'blmpop',\n",
       " 'blpop',\n",
       " 'brpop',\n",
       " 'brpoplpush',\n",
       " 'bzmpop',\n",
       " 'bzpopmax',\n",
       " 'bzpopmin',\n",
       " 'cf',\n",
       " 'client',\n",
       " 'client_getname',\n",
       " 'client_getredir',\n",
       " 'client_id',\n",
       " 'client_info',\n",
       " 'client_kill',\n",
       " 'client_kill_filter',\n",
       " 'client_list',\n",
       " 'client_no_evict',\n",
       " 'client_no_touch',\n",
       " 'client_pause',\n",
       " 'client_reply',\n",
       " 'client_setinfo',\n",
       " 'client_setname',\n",
       " 'client_tracking',\n",
       " 'client_tracking_off',\n",
       " 'client_tracking_on',\n",
       " 'client_trackinginfo',\n",
       " 'client_unblock',\n",
       " 'client_unpause',\n",
       " 'close',\n",
       " 'cluster',\n",
       " 'cms',\n",
       " 'command',\n",
       " 'command_count',\n",
       " 'command_docs',\n",
       " 'command_getkeys',\n",
       " 'command_getkeysandflags',\n",
       " 'command_info',\n",
       " 'command_list',\n",
       " 'config_get',\n",
       " 'config_resetstat',\n",
       " 'config_rewrite',\n",
       " 'config_set',\n",
       " 'connection',\n",
       " 'connection_pool',\n",
       " 'copy',\n",
       " 'dbsize',\n",
       " 'debug_object',\n",
       " 'debug_segfault',\n",
       " 'decr',\n",
       " 'decrby',\n",
       " 'delete',\n",
       " 'dump',\n",
       " 'echo',\n",
       " 'eval',\n",
       " 'eval_ro',\n",
       " 'evalsha',\n",
       " 'evalsha_ro',\n",
       " 'execute_command',\n",
       " 'exists',\n",
       " 'expire',\n",
       " 'expireat',\n",
       " 'expiretime',\n",
       " 'failover',\n",
       " 'fcall',\n",
       " 'fcall_ro',\n",
       " 'flushall',\n",
       " 'flushdb',\n",
       " 'from_pool',\n",
       " 'from_url',\n",
       " 'ft',\n",
       " 'function_delete',\n",
       " 'function_dump',\n",
       " 'function_flush',\n",
       " 'function_kill',\n",
       " 'function_list',\n",
       " 'function_load',\n",
       " 'function_restore',\n",
       " 'function_stats',\n",
       " 'geoadd',\n",
       " 'geodist',\n",
       " 'geohash',\n",
       " 'geopos',\n",
       " 'georadius',\n",
       " 'georadiusbymember',\n",
       " 'geosearch',\n",
       " 'geosearchstore',\n",
       " 'get',\n",
       " 'get_cache',\n",
       " 'get_connection_kwargs',\n",
       " 'get_encoder',\n",
       " 'get_retry',\n",
       " 'getbit',\n",
       " 'getdel',\n",
       " 'getex',\n",
       " 'getrange',\n",
       " 'getset',\n",
       " 'graph',\n",
       " 'hdel',\n",
       " 'hello',\n",
       " 'hexists',\n",
       " 'hexpire',\n",
       " 'hexpireat',\n",
       " 'hexpiretime',\n",
       " 'hget',\n",
       " 'hgetall',\n",
       " 'hincrby',\n",
       " 'hincrbyfloat',\n",
       " 'hkeys',\n",
       " 'hlen',\n",
       " 'hmget',\n",
       " 'hmset',\n",
       " 'hpersist',\n",
       " 'hpexpire',\n",
       " 'hpexpireat',\n",
       " 'hpexpiretime',\n",
       " 'hpttl',\n",
       " 'hrandfield',\n",
       " 'hscan',\n",
       " 'hscan_iter',\n",
       " 'hset',\n",
       " 'hsetnx',\n",
       " 'hstrlen',\n",
       " 'httl',\n",
       " 'hvals',\n",
       " 'incr',\n",
       " 'incrby',\n",
       " 'incrbyfloat',\n",
       " 'info',\n",
       " 'json',\n",
       " 'keys',\n",
       " 'lastsave',\n",
       " 'latency_doctor',\n",
       " 'latency_graph',\n",
       " 'latency_histogram',\n",
       " 'latency_history',\n",
       " 'latency_latest',\n",
       " 'latency_reset',\n",
       " 'lcs',\n",
       " 'lindex',\n",
       " 'linsert',\n",
       " 'llen',\n",
       " 'lmove',\n",
       " 'lmpop',\n",
       " 'load_external_module',\n",
       " 'lock',\n",
       " 'lolwut',\n",
       " 'lpop',\n",
       " 'lpos',\n",
       " 'lpush',\n",
       " 'lpushx',\n",
       " 'lrange',\n",
       " 'lrem',\n",
       " 'lset',\n",
       " 'ltrim',\n",
       " 'memory_doctor',\n",
       " 'memory_help',\n",
       " 'memory_malloc_stats',\n",
       " 'memory_purge',\n",
       " 'memory_stats',\n",
       " 'memory_usage',\n",
       " 'mget',\n",
       " 'migrate',\n",
       " 'module_list',\n",
       " 'module_load',\n",
       " 'module_loadex',\n",
       " 'module_unload',\n",
       " 'monitor',\n",
       " 'move',\n",
       " 'mset',\n",
       " 'msetnx',\n",
       " 'object',\n",
       " 'parse_response',\n",
       " 'persist',\n",
       " 'pexpire',\n",
       " 'pexpireat',\n",
       " 'pexpiretime',\n",
       " 'pfadd',\n",
       " 'pfcount',\n",
       " 'pfmerge',\n",
       " 'ping',\n",
       " 'pipeline',\n",
       " 'psetex',\n",
       " 'psync',\n",
       " 'pttl',\n",
       " 'publish',\n",
       " 'pubsub',\n",
       " 'pubsub_channels',\n",
       " 'pubsub_numpat',\n",
       " 'pubsub_numsub',\n",
       " 'pubsub_shardchannels',\n",
       " 'pubsub_shardnumsub',\n",
       " 'quit',\n",
       " 'randomkey',\n",
       " 'readonly',\n",
       " 'readwrite',\n",
       " 'register_script',\n",
       " 'rename',\n",
       " 'renamenx',\n",
       " 'replicaof',\n",
       " 'reset',\n",
       " 'response_callbacks',\n",
       " 'restore',\n",
       " 'role',\n",
       " 'rpop',\n",
       " 'rpoplpush',\n",
       " 'rpush',\n",
       " 'rpushx',\n",
       " 'sadd',\n",
       " 'save',\n",
       " 'scan',\n",
       " 'scan_iter',\n",
       " 'scard',\n",
       " 'script_debug',\n",
       " 'script_exists',\n",
       " 'script_flush',\n",
       " 'script_kill',\n",
       " 'script_load',\n",
       " 'sdiff',\n",
       " 'sdiffstore',\n",
       " 'select',\n",
       " 'sentinel',\n",
       " 'sentinel_ckquorum',\n",
       " 'sentinel_failover',\n",
       " 'sentinel_flushconfig',\n",
       " 'sentinel_get_master_addr_by_name',\n",
       " 'sentinel_master',\n",
       " 'sentinel_masters',\n",
       " 'sentinel_monitor',\n",
       " 'sentinel_remove',\n",
       " 'sentinel_reset',\n",
       " 'sentinel_sentinels',\n",
       " 'sentinel_set',\n",
       " 'sentinel_slaves',\n",
       " 'set',\n",
       " 'set_response_callback',\n",
       " 'set_retry',\n",
       " 'setbit',\n",
       " 'setex',\n",
       " 'setnx',\n",
       " 'setrange',\n",
       " 'shutdown',\n",
       " 'sinter',\n",
       " 'sintercard',\n",
       " 'sinterstore',\n",
       " 'sismember',\n",
       " 'slaveof',\n",
       " 'slowlog_get',\n",
       " 'slowlog_len',\n",
       " 'slowlog_reset',\n",
       " 'smembers',\n",
       " 'smismember',\n",
       " 'smove',\n",
       " 'sort',\n",
       " 'sort_ro',\n",
       " 'spop',\n",
       " 'spublish',\n",
       " 'srandmember',\n",
       " 'srem',\n",
       " 'sscan',\n",
       " 'sscan_iter',\n",
       " 'stralgo',\n",
       " 'strlen',\n",
       " 'substr',\n",
       " 'sunion',\n",
       " 'sunionstore',\n",
       " 'swapdb',\n",
       " 'sync',\n",
       " 'tdigest',\n",
       " 'tfcall',\n",
       " 'tfcall_async',\n",
       " 'tfunction_delete',\n",
       " 'tfunction_list',\n",
       " 'tfunction_load',\n",
       " 'time',\n",
       " 'topk',\n",
       " 'touch',\n",
       " 'transaction',\n",
       " 'ts',\n",
       " 'ttl',\n",
       " 'type',\n",
       " 'unlink',\n",
       " 'unwatch',\n",
       " 'wait',\n",
       " 'waitaof',\n",
       " 'watch',\n",
       " 'xack',\n",
       " 'xadd',\n",
       " 'xautoclaim',\n",
       " 'xclaim',\n",
       " 'xdel',\n",
       " 'xgroup_create',\n",
       " 'xgroup_createconsumer',\n",
       " 'xgroup_delconsumer',\n",
       " 'xgroup_destroy',\n",
       " 'xgroup_setid',\n",
       " 'xinfo_consumers',\n",
       " 'xinfo_groups',\n",
       " 'xinfo_stream',\n",
       " 'xlen',\n",
       " 'xpending',\n",
       " 'xpending_range',\n",
       " 'xrange',\n",
       " 'xread',\n",
       " 'xreadgroup',\n",
       " 'xrevrange',\n",
       " 'xtrim',\n",
       " 'zadd',\n",
       " 'zcard',\n",
       " 'zcount',\n",
       " 'zdiff',\n",
       " 'zdiffstore',\n",
       " 'zincrby',\n",
       " 'zinter',\n",
       " 'zintercard',\n",
       " 'zinterstore',\n",
       " 'zlexcount',\n",
       " 'zmpop',\n",
       " 'zmscore',\n",
       " 'zpopmax',\n",
       " 'zpopmin',\n",
       " 'zrandmember',\n",
       " 'zrange',\n",
       " 'zrangebylex',\n",
       " 'zrangebyscore',\n",
       " 'zrangestore',\n",
       " 'zrank',\n",
       " 'zrem',\n",
       " 'zremrangebylex',\n",
       " 'zremrangebyrank',\n",
       " 'zremrangebyscore',\n",
       " 'zrevrange',\n",
       " 'zrevrangebylex',\n",
       " 'zrevrangebyscore',\n",
       " 'zrevrank',\n",
       " 'zscan',\n",
       " 'zscan_iter',\n",
       " 'zscore',\n",
       " 'zunion',\n",
       " 'zunionstore']"
      ]
     },
     "execution_count": 33,
     "metadata": {},
     "output_type": "execute_result"
    }
   ],
   "source": [
    "dir(rj)"
   ]
  },
  {
   "cell_type": "code",
   "execution_count": null,
   "id": "07cb3694",
   "metadata": {},
   "outputs": [],
   "source": []
  }
 ],
 "metadata": {
  "kernelspec": {
   "display_name": "mypy-learnings-arzkQPNA-py3.12",
   "language": "python",
   "name": "python3"
  },
  "language_info": {
   "codemirror_mode": {
    "name": "ipython",
    "version": 3
   },
   "file_extension": ".py",
   "mimetype": "text/x-python",
   "name": "python",
   "nbconvert_exporter": "python",
   "pygments_lexer": "ipython3",
   "version": "3.12.9"
  }
 },
 "nbformat": 4,
 "nbformat_minor": 5
}
